{
 "cells": [
  {
   "cell_type": "markdown",
   "id": "925234b8",
   "metadata": {},
   "source": [
    "# Rock ,Paper And Scissor"
   ]
  },
  {
   "cell_type": "code",
   "execution_count": 5,
   "id": "935942d7",
   "metadata": {},
   "outputs": [
    {
     "name": "stdout",
     "output_type": "stream",
     "text": [
      "Lets play Rock , Paper & Scissor\n",
      "Choose between r / p / s [Rock, Paper or scissors]\n",
      "r\n",
      "Choose between r / p / s [Rock, Paper or scissors]\n",
      "r\n",
      "Player1 choose r and Player2 choose r\n",
      "TIE\n"
     ]
    }
   ],
   "source": [
    "print(\"Lets play Rock , Paper & Scissor\")\n",
    "\n",
    "Player1 = str(input(\"Choose between r / p / s [Rock, Paper or scissors]\\n\"))\n",
    "Player2 = str(input(\"Choose between r / p / s [Rock, Paper or scissors]\\n\"))\n",
    "\n",
    "##Logic using conditinal Check\n",
    "\n",
    "## logic for paper\n",
    "if(Player1=='p') and (Player2=='p'):\n",
    "    print(\"Player1 choose {option1} and Player2 choose {option2}\".format(option1=Player1,option2=Player2))\n",
    "    print(\"TIE\")\n",
    "elif(Player1=='p') and (Player2=='r'):\n",
    "    print(\"Player1 choose {option1} and Player2 choose {option2}\".format(option1=Player1,option2=Player2))\n",
    "    print(\"Player1 WINS\")\n",
    "elif(Player1=='p') and (Player2=='s'):\n",
    "    print(\"Player1 choose {option1} and Player2 choose {option2}\".format(option1=Player1,option2=Player2))\n",
    "    print(\"Player2 WINS\")\n",
    "\n",
    "## Logic for rock\n",
    "elif(Player1=='r') and (Player2=='r'):\n",
    "    print(\"Player1 choose {option1} and Player2 choose {option2}\".format(option1=Player1,option2=Player2))\n",
    "    print(\"TIE\")\n",
    "elif(Player1=='r') and (Player2=='p'):\n",
    "    print(\"Player1 choose {option1} and Player2 choose {option2}\".format(option1=Player1,option2=Player2))\n",
    "    print(\"Player2 WINS\")\n",
    "elif(Player1=='r') and (Player2=='s'):\n",
    "    print(\"Player1 choose {option1} and Player2 choose {option2}\".format(option1=Player1,option2=Player2))\n",
    "    print(\"Player1 WINS\")\n",
    "    \n",
    "## Logic for scissors\n",
    "elif(Player1=='s') and (Player2=='s'):\n",
    "    print(\"Player1 choose {option1} and Player2 choose {option2}\".format(option1=Player1,option2=Player2))\n",
    "    print(\"TIE\")\n",
    "elif(Player1=='s') and (Player2=='r'):\n",
    "    print(\"Player1 choose {option1} and Player2 choose {option2}\".format(option1=Player1,option2=Player2))\n",
    "    print(\"Player2 WINS\")\n",
    "elif(Player1=='s') and (Player2=='p'):\n",
    "    print(\"Player1 choose {option1} and Player2 choose {option2}\".format(option1=Player1,option2=Player2))\n",
    "    print(\"Player1 WINS\")\n",
    "\n",
    "## Logic for error\n",
    "else:\n",
    "    print(\"Error\\n Choose right options\")"
   ]
  },
  {
   "cell_type": "code",
   "execution_count": null,
   "id": "75b316ee",
   "metadata": {},
   "outputs": [],
   "source": []
  }
 ],
 "metadata": {
  "kernelspec": {
   "display_name": "Python 3 (ipykernel)",
   "language": "python",
   "name": "python3"
  },
  "language_info": {
   "codemirror_mode": {
    "name": "ipython",
    "version": 3
   },
   "file_extension": ".py",
   "mimetype": "text/x-python",
   "name": "python",
   "nbconvert_exporter": "python",
   "pygments_lexer": "ipython3",
   "version": "3.9.7"
  }
 },
 "nbformat": 4,
 "nbformat_minor": 5
}
