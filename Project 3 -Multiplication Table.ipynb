{
 "cells": [
  {
   "cell_type": "markdown",
   "id": "f210670b",
   "metadata": {},
   "source": [
    "# Multiplication Tables"
   ]
  },
  {
   "cell_type": "code",
   "execution_count": 7,
   "id": "d4f09472",
   "metadata": {},
   "outputs": [
    {
     "name": "stdout",
     "output_type": "stream",
     "text": [
      "Your Multiplacation Tables\n",
      "******************************\n",
      "Enter your number of choice - 8\n",
      "******************************\n",
      "8 * 1 = 8\n",
      "8 * 2 = 16\n",
      "8 * 3 = 24\n",
      "8 * 4 = 32\n",
      "8 * 5 = 40\n",
      "8 * 6 = 48\n",
      "8 * 7 = 56\n",
      "8 * 8 = 64\n",
      "8 * 9 = 72\n",
      "8 * 10 = 80\n",
      "8 * 11 = 88\n",
      "8 * 12 = 96\n",
      "8 * 13 = 104\n",
      "8 * 14 = 112\n",
      "8 * 15 = 120\n",
      "8 * 16 = 128\n",
      "8 * 17 = 136\n",
      "8 * 18 = 144\n",
      "8 * 19 = 152\n",
      "8 * 20 = 160\n",
      "******************************\n"
     ]
    }
   ],
   "source": [
    "print(\"Your Multiplacation Tables\")\n",
    "print(\"*\"*30)\n",
    "num=(int(input(\"Enter your number of choice - \")))\n",
    "print(\"*\"*30)\n",
    "i=1\n",
    "while (i<=20):\n",
    "    print(num,\"*\",i,\"=\",num*i)\n",
    "    i=i+1\n",
    "print(\"*\"*30)\n"
   ]
  },
  {
   "cell_type": "code",
   "execution_count": null,
   "id": "bb31e32d",
   "metadata": {},
   "outputs": [],
   "source": []
  }
 ],
 "metadata": {
  "kernelspec": {
   "display_name": "Python 3 (ipykernel)",
   "language": "python",
   "name": "python3"
  },
  "language_info": {
   "codemirror_mode": {
    "name": "ipython",
    "version": 3
   },
   "file_extension": ".py",
   "mimetype": "text/x-python",
   "name": "python",
   "nbconvert_exporter": "python",
   "pygments_lexer": "ipython3",
   "version": "3.9.7"
  }
 },
 "nbformat": 4,
 "nbformat_minor": 5
}
